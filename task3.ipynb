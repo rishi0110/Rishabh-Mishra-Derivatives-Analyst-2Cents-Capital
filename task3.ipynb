{
 "cells": [
  {
   "cell_type": "code",
   "execution_count": null,
   "metadata": {},
   "outputs": [],
   "source": [
    "import numpy as np\n",
    "import matplotlib.pyplot as plt\n",
    "\n",
    "# Calculate daily returns based on the final payoff\n",
    "data['Daily_Return'] = data['final_payoff'].pct_change()\n",
    "\n",
    "# Define risk-free rate (for example, 2% per annum)\n",
    "risk_free_rate = 0.02 / 252  # Daily risk-free rate\n",
    "\n",
    "# 1. Sharpe Ratio\n",
    "sharpe_ratio = (data['Daily_Return'].mean() - risk_free_rate) / data['Daily_Return'].std()\n",
    "\n",
    "# 2. Sortino Ratio\n",
    "# Calculate downside deviation (only consider negative returns)\n",
    "downside_deviation = data[data['Daily_Return'] < 0]['Daily_Return'].std()\n",
    "sortino_ratio = (data['Daily_Return'].mean() - risk_free_rate) / downside_deviation\n",
    "\n",
    "# 3. Maximum Drawdown\n",
    "def calculate_max_drawdown(returns):\n",
    "    cumulative_returns = (1 + returns).cumprod()\n",
    "    cumulative_max = cumulative_returns.cummax()\n",
    "    drawdown = (cumulative_returns - cumulative_max) / cumulative_max\n",
    "    return drawdown.min()\n",
    "\n",
    "max_drawdown = calculate_max_drawdown(data['Daily_Return'])\n",
    "\n",
    "# 4. Annualized Return\n",
    "annualized_return = (1 + data['Daily_Return'].mean()) ** 252 - 1\n",
    "\n",
    "# Display the results\n",
    "print(\"Performance Analysis for Long Straddle Strategy\")\n",
    "print(f\"Sharpe Ratio: {sharpe_ratio}\")\n",
    "print(f\"Sortino Ratio: {sortino_ratio}\")\n",
    "print(f\"Maximum Drawdown: {max_drawdown}\")\n",
    "print(f\"Annualized Return: {annualized_return}\\n\")\n",
    "\n",
    "# Plot cumulative returns for the straddle strategy\n",
    "plt.figure(figsize=(12, 6))\n",
    "plt.plot((1 + data['Daily_Return']).cumprod(), label='Cumulative Return', color='blue')\n",
    "plt.xlabel('Date')\n",
    "plt.ylabel('Cumulative Return')\n",
    "plt.title('Cumulative Returns Over Time for Long Straddle Strategy')\n",
    "plt.legend()\n",
    "plt.xticks(rotation=45)\n",
    "plt.show()"
   ]
  },
  {
   "cell_type": "code",
   "execution_count": null,
   "metadata": {},
   "outputs": [],
   "source": []
  },
  {
   "cell_type": "code",
   "execution_count": null,
   "metadata": {},
   "outputs": [],
   "source": []
  }
 ],
 "metadata": {
  "kernelspec": {
   "display_name": "base",
   "language": "python",
   "name": "python3"
  },
  "language_info": {
   "name": "python",
   "version": "3.12.4"
  }
 },
 "nbformat": 4,
 "nbformat_minor": 2
}
